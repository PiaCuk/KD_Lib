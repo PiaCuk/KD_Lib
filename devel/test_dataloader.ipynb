{
 "cells": [
  {
   "cell_type": "code",
   "execution_count": 1,
   "id": "9179279d",
   "metadata": {},
   "outputs": [],
   "source": [
    "import numpy as np\n",
    "import matplotlib.pyplot as plt\n",
    "from ..utils import create_dataloader, create_weighted_dataloader\n"
   ]
  },
  {
   "cell_type": "code",
   "execution_count": 2,
   "id": "5801b5e5",
   "metadata": {},
   "outputs": [
    {
     "name": "stderr",
     "output_type": "stream",
     "text": [
      "/home/pia/Documents/KD_Lib/kd_venv/lib/python3.9/site-packages/torch/utils/data/dataloader.py:478: UserWarning: This DataLoader will create 16 worker processes in total. Our suggested max number of worker in current system is 8, which is smaller than what this DataLoader is going to create. Please be aware that excessive worker creation might get DataLoader running slow or even freeze, lower the worker number to avoid potential slowness/freeze if necessary.\n",
      "  warnings.warn(_create_warning_msg(\n"
     ]
    }
   ],
   "source": [
    "balanced_loader = create_dataloader(1, train=True, generator=None)\n"
   ]
  },
  {
   "cell_type": "code",
   "execution_count": 3,
   "id": "16485db0",
   "metadata": {},
   "outputs": [
    {
     "data": {
      "text/plain": [
       "60000"
      ]
     },
     "execution_count": 3,
     "metadata": {},
     "output_type": "execute_result"
    }
   ],
   "source": [
    "len(balanced_loader)\n"
   ]
  },
  {
   "cell_type": "code",
   "execution_count": 4,
   "id": "3411e7f5",
   "metadata": {},
   "outputs": [
    {
     "name": "stdout",
     "output_type": "stream",
     "text": [
      "60000\n"
     ]
    }
   ],
   "source": [
    "imbalanced_loader = create_weighted_dataloader(1, train=True, generator=None)\n"
   ]
  },
  {
   "cell_type": "code",
   "execution_count": 5,
   "id": "f32d35de",
   "metadata": {},
   "outputs": [
    {
     "data": {
      "text/plain": [
       "60000"
      ]
     },
     "execution_count": 5,
     "metadata": {},
     "output_type": "execute_result"
    }
   ],
   "source": [
    "len(imbalanced_loader)\n"
   ]
  },
  {
   "cell_type": "code",
   "execution_count": 6,
   "id": "373d4714",
   "metadata": {},
   "outputs": [],
   "source": [
    "num_classes = 10\n",
    "labels_list = range(num_classes)\n"
   ]
  },
  {
   "cell_type": "code",
   "execution_count": 7,
   "id": "d785ab1d",
   "metadata": {},
   "outputs": [],
   "source": [
    "def get_random_samples(dl, max_count=1000):\n",
    "    labels = []\n",
    "    for count, (_, label) in enumerate(dl):\n",
    "        if count > max_count:\n",
    "            break\n",
    "        else:\n",
    "            labels.append(label.item())\n",
    "    return labels\n"
   ]
  },
  {
   "cell_type": "code",
   "execution_count": 8,
   "id": "c1995f2c",
   "metadata": {},
   "outputs": [],
   "source": [
    "balanced_labels = get_random_samples(balanced_loader)\n",
    "imbalanced_labels = get_random_samples(imbalanced_loader)\n"
   ]
  },
  {
   "cell_type": "code",
   "execution_count": 9,
   "id": "8e258fd3",
   "metadata": {},
   "outputs": [
    {
     "name": "stdout",
     "output_type": "stream",
     "text": [
      "Distribution of classes in original dataset:\n"
     ]
    },
    {
     "data": {
      "image/png": "[encoded data removed]",
      "text/plain": [
       "<Figure size 432x288 with 1 Axes>"
      ]
     },
     "metadata": {
      "needs_background": "light"
     },
     "output_type": "display_data"
    }
   ],
   "source": [
    "print('Distribution of classes in original dataset:')\n",
    "fig, ax = plt.subplots()\n",
    "counts1 = np.unique(balanced_labels, return_counts=True)\n",
    "ax.bar(counts1[0], counts1[1])\n",
    "ax.set_xticks(counts1[0])\n",
    "plt.show()\n"
   ]
  },
  {
   "cell_type": "code",
   "execution_count": 10,
   "id": "1403c9bc",
   "metadata": {},
   "outputs": [
    {
     "name": "stdout",
     "output_type": "stream",
     "text": [
      "Distribution of sampler in imbalanced dataloader:\n"
     ]
    },
    {
     "data": {
      "image/png": "[encoded data removed]",
      "text/plain": [
       "<Figure size 432x288 with 1 Axes>"
      ]
     },
     "metadata": {
      "needs_background": "light"
     },
     "output_type": "display_data"
    }
   ],
   "source": [
    "print('Distribution of sampler in imbalanced dataloader:')\n",
    "fig, ax = plt.subplots()\n",
    "counts2 = np.unique(imbalanced_labels, return_counts=True)\n",
    "ax.bar(counts2[0], counts2[1])\n",
    "ax.set_xticks(counts2[0])\n",
    "plt.show()\n"
   ]
  },
  {
   "cell_type": "code",
   "execution_count": 11,
   "id": "04226156",
   "metadata": {},
   "outputs": [
    {
     "data": {
      "text/plain": [
       "((array([0, 1, 2, 3, 4, 5, 6, 7, 8, 9]),\n",
       "  array([ 98, 107, 122, 106, 108,  83,  87, 113,  97,  80])),\n",
       " (array([0, 1, 2, 3, 4, 5, 6, 7, 8, 9]),\n",
       "  array([213,  96,  97,  73,  82,  93,  84,  83,  78, 102])))"
      ]
     },
     "execution_count": 11,
     "metadata": {},
     "output_type": "execute_result"
    }
   ],
   "source": [
    "counts1, counts2\n"
   ]
  },
  {
   "cell_type": "code",
   "execution_count": 12,
   "id": "71df5296",
   "metadata": {},
   "outputs": [
    {
     "data": {
      "text/plain": [
       "(100.33333333333333, 87.55555555555556)"
      ]
     },
     "execution_count": 12,
     "metadata": {},
     "output_type": "execute_result"
    }
   ],
   "source": [
    "np.mean(counts1[1][1:]), np.mean(counts2[1][1:])\n"
   ]
  },
  {
   "cell_type": "code",
   "execution_count": 13,
   "id": "8c89fa0d",
   "metadata": {},
   "outputs": [
    {
     "data": {
      "text/plain": [
       "(98, 213)"
      ]
     },
     "execution_count": 13,
     "metadata": {},
     "output_type": "execute_result"
    }
   ],
   "source": [
    "counts1[1][0], counts2[1][0]\n"
   ]
  },
  {
   "cell_type": "code",
   "execution_count": null,
   "id": "19d0afe0",
   "metadata": {},
   "outputs": [],
   "source": []
  }
 ],
 "metadata": {
  "kernelspec": {
   "display_name": "Python 3 (ipykernel)",
   "language": "python",
   "name": "python3"
  },
  "language_info": {
   "codemirror_mode": {
    "name": "ipython",
    "version": 3
   },
   "file_extension": ".py",
   "mimetype": "text/x-python",
   "name": "python",
   "nbconvert_exporter": "python",
   "pygments_lexer": "ipython3",
   "version": "3.9.7"
  }
 },
 "nbformat": 4,
 "nbformat_minor": 5
}
